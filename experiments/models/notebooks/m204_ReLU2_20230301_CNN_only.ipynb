{
 "cells": [
  {
   "cell_type": "code",
   "execution_count": null,
   "id": "2dd48206-462c-4f6c-93de-0a44578d64c1",
   "metadata": {},
   "outputs": [],
   "source": [
    "\"\"\"\n",
    "changelogs:\n",
    "    head:\n",
    "        change output to ReLU\n",
    "\"\"\""
   ]
  },
  {
   "cell_type": "code",
   "execution_count": 1,
   "id": "4ef4d799-ff79-40d6-8af2-6c87a51d31fc",
   "metadata": {},
   "outputs": [],
   "source": [
    "import torch\n",
    "from torch import nn\n",
    "from torch.utils.tensorboard import SummaryWriter"
   ]
  },
  {
   "cell_type": "code",
   "execution_count": 2,
   "id": "3341ca8e-8113-4056-b7a8-a9ee1300001f",
   "metadata": {},
   "outputs": [],
   "source": [
    "model_name = 'm204_ReLU2'\n",
    "writer = SummaryWriter(f'logs_tb/{model_name}', filename_suffix='-model_graph.tb')"
   ]
  },
  {
   "cell_type": "code",
   "execution_count": 3,
   "id": "e42684e2-bd90-4ea1-9608-7b42bf1bd2d5",
   "metadata": {
    "scrolled": true,
    "tags": []
   },
   "outputs": [
    {
     "data": {
      "text/plain": [
       "Model(\n",
       "  (stem): Sequential(\n",
       "    (0): Sequential(\n",
       "      (0): Conv1d(1, 16, kernel_size=(11,), stride=(6,))\n",
       "      (1): ReLU()\n",
       "    )\n",
       "    (1): Sequential(\n",
       "      (0): Conv1d(16, 16, kernel_size=(3,), stride=(2,))\n",
       "      (1): ReLU()\n",
       "    )\n",
       "    (2): Sequential(\n",
       "      (0): Conv1d(16, 16, kernel_size=(3,), stride=(2,))\n",
       "      (1): ReLU()\n",
       "    )\n",
       "  )\n",
       "  (body): Sequential(\n",
       "    (0): Sequential(\n",
       "      (0): Sequential(\n",
       "        (0): Conv1d(16, 32, kernel_size=(3,), stride=(1,), padding=(1,))\n",
       "        (1): ReLU()\n",
       "      )\n",
       "      (1): Sequential(\n",
       "        (0): Conv1d(32, 32, kernel_size=(3,), stride=(1,), padding=(1,))\n",
       "        (1): ReLU()\n",
       "      )\n",
       "      (2): Sequential(\n",
       "        (0): Conv1d(32, 32, kernel_size=(2,), stride=(2,), padding=(1,))\n",
       "        (1): ReLU()\n",
       "      )\n",
       "    )\n",
       "    (1): Sequential(\n",
       "      (0): Sequential(\n",
       "        (0): Conv1d(32, 64, kernel_size=(3,), stride=(1,), padding=(1,))\n",
       "        (1): ReLU()\n",
       "      )\n",
       "      (1): Sequential(\n",
       "        (0): Conv1d(64, 64, kernel_size=(3,), stride=(1,), padding=(1,))\n",
       "        (1): ReLU()\n",
       "      )\n",
       "      (2): Sequential(\n",
       "        (0): Conv1d(64, 64, kernel_size=(2,), stride=(2,), padding=(1,))\n",
       "        (1): ReLU()\n",
       "      )\n",
       "    )\n",
       "    (2): Sequential(\n",
       "      (0): Sequential(\n",
       "        (0): Conv1d(64, 64, kernel_size=(3,), stride=(1,), padding=(1,))\n",
       "        (1): ReLU()\n",
       "      )\n",
       "      (1): Sequential(\n",
       "        (0): Conv1d(64, 64, kernel_size=(3,), stride=(1,), padding=(1,))\n",
       "        (1): ReLU()\n",
       "      )\n",
       "      (2): Sequential(\n",
       "        (0): Conv1d(64, 64, kernel_size=(2,), stride=(2,), padding=(1,))\n",
       "        (1): ReLU()\n",
       "      )\n",
       "    )\n",
       "  )\n",
       "  (head): Sequential(\n",
       "    (0): AdaptiveAvgPool1d(output_size=1)\n",
       "    (1): Flatten(start_dim=1, end_dim=-1)\n",
       "    (2): Linear(in_features=64, out_features=16, bias=True)\n",
       "    (3): Sigmoid()\n",
       "    (4): Linear(in_features=16, out_features=1, bias=True)\n",
       "    (5): ReLU()\n",
       "  )\n",
       ")"
      ]
     },
     "execution_count": 3,
     "metadata": {},
     "output_type": "execute_result"
    }
   ],
   "source": [
    "def calc_padding(kernel_size, padding):\n",
    "    if padding == 'same':\n",
    "        return kernel_size//2\n",
    "    elif padding == 'valid':\n",
    "        return 0\n",
    "\n",
    "def conv1d(Ci, Co, kernel_size, stride, padding):\n",
    "    module = nn.Conv1d(Ci, Co,\n",
    "                       kernel_size=kernel_size,\n",
    "                       stride=stride,\n",
    "                       padding=calc_padding(kernel_size, padding))\n",
    "    nn.init.kaiming_normal_(module.weight) # He normal\n",
    "    return module\n",
    "\n",
    "def conv1d_relu(Ci, Co, kernel_size, stride, padding='same'):\n",
    "    module = nn.Sequential(\n",
    "        conv1d(Ci, Co, kernel_size, stride, padding),\n",
    "        nn.ReLU()\n",
    "    )\n",
    "    return module\n",
    "\n",
    "def CNN_Block(Ci, Co):\n",
    "    module = nn.Sequential(\n",
    "        conv1d_relu(Ci, Co, 3, 1),\n",
    "        conv1d_relu(Co, Co, 3, 1),\n",
    "        conv1d_relu(Co, Co, 2, 2)\n",
    "    )\n",
    "    return module\n",
    "\n",
    "class Model(nn.Module):\n",
    "    def __init__(self):\n",
    "        super().__init__()\n",
    "        self.stem = nn.Sequential(\n",
    "            conv1d_relu(1, 16, 11, 6, 'valid'),\n",
    "            conv1d_relu(16, 16, 3, 2, 'valid'),\n",
    "            conv1d_relu(16, 16, 3, 2, 'valid')\n",
    "        )\n",
    "        self.body = nn.Sequential(\n",
    "            CNN_Block(16, 32),\n",
    "            CNN_Block(32, 64),\n",
    "            CNN_Block(64, 64)\n",
    "        )\n",
    "        self.head = nn.Sequential(\n",
    "            nn.AdaptiveAvgPool1d(output_size=1),\n",
    "            nn.Flatten(),\n",
    "            nn.Linear(64, 16),\n",
    "            nn.Sigmoid(),\n",
    "            nn.Linear(16, 1),\n",
    "            nn.ReLU()\n",
    "        )\n",
    "        \n",
    "    def forward(self, x):\n",
    "        y = self.stem(x)\n",
    "        y = self.body(y)\n",
    "        y = self.head(y)\n",
    "        y = torch.clamp(y, max=1.)\n",
    "        return y\n",
    "    \n",
    "model = Model().cuda()\n",
    "model"
   ]
  },
  {
   "cell_type": "code",
   "execution_count": 4,
   "id": "da187ecb-7350-4ea8-ba6a-28ede189f6d3",
   "metadata": {},
   "outputs": [
    {
     "data": {
      "text/plain": [
       "torch.Size([1, 1, 28800])"
      ]
     },
     "execution_count": 4,
     "metadata": {},
     "output_type": "execute_result"
    }
   ],
   "source": [
    "duration = 8*60*60 # 8 hr\n",
    "SR = 1 # 1 hz\n",
    "data_len = duration*SR\n",
    "\n",
    "input_data = torch.ones(1, 1, data_len).cuda() # [batch, channel, row]\n",
    "input_data.size()"
   ]
  },
  {
   "cell_type": "code",
   "execution_count": 5,
   "id": "a7ac6b3d-44d0-4584-84bf-c40747b672b6",
   "metadata": {},
   "outputs": [],
   "source": [
    "writer.add_graph(model, input_data)\n",
    "writer.close()"
   ]
  },
  {
   "cell_type": "code",
   "execution_count": null,
   "id": "ebb5552e-1874-46e4-8665-bb118934d2e6",
   "metadata": {},
   "outputs": [],
   "source": []
  }
 ],
 "metadata": {
  "kernelspec": {
   "display_name": "Python 3 (ipykernel)",
   "language": "python",
   "name": "python3"
  },
  "language_info": {
   "codemirror_mode": {
    "name": "ipython",
    "version": 3
   },
   "file_extension": ".py",
   "mimetype": "text/x-python",
   "name": "python",
   "nbconvert_exporter": "python",
   "pygments_lexer": "ipython3",
   "version": "3.9.15"
  }
 },
 "nbformat": 4,
 "nbformat_minor": 5
}
