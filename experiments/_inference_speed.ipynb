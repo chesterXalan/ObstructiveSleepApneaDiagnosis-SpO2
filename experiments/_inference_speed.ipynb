{
 "cells": [
  {
   "cell_type": "code",
   "execution_count": 1,
   "id": "d903733a-0874-439d-b35a-7063a7c007f1",
   "metadata": {},
   "outputs": [],
   "source": [
    "import json\n",
    "import numpy as np\n",
    "import pandas as pd\n",
    "from tqdm import tqdm\n",
    "from pathlib import Path\n",
    "\n",
    "import torch\n",
    "from torch.utils.data import Dataset, DataLoader"
   ]
  },
  {
   "cell_type": "code",
   "execution_count": 2,
   "id": "83b622b9-b82b-4de7-8fd1-54fc24a4a97a",
   "metadata": {},
   "outputs": [],
   "source": [
    "data_dir = Path(r'..\\dataset\\del_wake')\n",
    "data_json = Path(r'..\\dataset\\data_list')\n",
    "mesa_mros_shhs = 'mesa_mros_shhs_20230215.json'\n",
    "train_name_lst = ['mesa', 'MrOS_visit1', 'MrOS_visit2']"
   ]
  },
  {
   "cell_type": "code",
   "execution_count": 3,
   "id": "e3a630eb-0519-4a2b-8d9d-68238fe94581",
   "metadata": {},
   "outputs": [
    {
     "data": {
      "text/html": [
       "<div>\n",
       "<style scoped>\n",
       "    .dataframe tbody tr th:only-of-type {\n",
       "        vertical-align: middle;\n",
       "    }\n",
       "\n",
       "    .dataframe tbody tr th {\n",
       "        vertical-align: top;\n",
       "    }\n",
       "\n",
       "    .dataframe thead th {\n",
       "        text-align: right;\n",
       "    }\n",
       "</style>\n",
       "<table border=\"1\" class=\"dataframe\">\n",
       "  <thead>\n",
       "    <tr style=\"text-align: right;\">\n",
       "      <th></th>\n",
       "      <th>mesa</th>\n",
       "      <th>MrOS_visit1</th>\n",
       "      <th>MrOS_visit2</th>\n",
       "      <th>shhs1</th>\n",
       "      <th>shhs2</th>\n",
       "      <th>total</th>\n",
       "    </tr>\n",
       "  </thead>\n",
       "  <tbody>\n",
       "    <tr>\n",
       "      <th>normal</th>\n",
       "      <td>414</td>\n",
       "      <td>502</td>\n",
       "      <td>154</td>\n",
       "      <td>1766</td>\n",
       "      <td>629</td>\n",
       "      <td>3465</td>\n",
       "    </tr>\n",
       "    <tr>\n",
       "      <th>mild</th>\n",
       "      <td>643</td>\n",
       "      <td>1029</td>\n",
       "      <td>360</td>\n",
       "      <td>2031</td>\n",
       "      <td>960</td>\n",
       "      <td>5023</td>\n",
       "    </tr>\n",
       "    <tr>\n",
       "      <th>moderate</th>\n",
       "      <td>518</td>\n",
       "      <td>792</td>\n",
       "      <td>283</td>\n",
       "      <td>1237</td>\n",
       "      <td>637</td>\n",
       "      <td>3467</td>\n",
       "    </tr>\n",
       "    <tr>\n",
       "      <th>severe</th>\n",
       "      <td>481</td>\n",
       "      <td>583</td>\n",
       "      <td>229</td>\n",
       "      <td>759</td>\n",
       "      <td>425</td>\n",
       "      <td>2477</td>\n",
       "    </tr>\n",
       "    <tr>\n",
       "      <th>total</th>\n",
       "      <td>2056</td>\n",
       "      <td>2906</td>\n",
       "      <td>1026</td>\n",
       "      <td>5793</td>\n",
       "      <td>2651</td>\n",
       "      <td>14432</td>\n",
       "    </tr>\n",
       "  </tbody>\n",
       "</table>\n",
       "</div>"
      ],
      "text/plain": [
       "          mesa  MrOS_visit1  MrOS_visit2  shhs1  shhs2  total\n",
       "normal     414          502          154   1766    629   3465\n",
       "mild       643         1029          360   2031    960   5023\n",
       "moderate   518          792          283   1237    637   3467\n",
       "severe     481          583          229    759    425   2477\n",
       "total     2056         2906         1026   5793   2651  14432"
      ]
     },
     "execution_count": 3,
     "metadata": {},
     "output_type": "execute_result"
    }
   ],
   "source": [
    "# MESA + MrOS + SHHS\n",
    "with open(data_json/mesa_mros_shhs) as f:\n",
    "    all_npz = json.load(f)\n",
    "\n",
    "data_num = [[len(i) for i in v.values()] for v in all_npz.values()]\n",
    "df = pd.DataFrame(data_num).transpose()\n",
    "df.index = ['normal', 'mild', 'moderate', 'severe']\n",
    "df.columns = all_npz.keys()\n",
    "df.loc['total'] = df.sum(axis=0)\n",
    "df.loc[:, 'total'] = df.sum(axis=1)\n",
    "df"
   ]
  },
  {
   "cell_type": "code",
   "execution_count": 4,
   "id": "3ea7c440-d177-4a8c-92c4-57f761ff5abc",
   "metadata": {},
   "outputs": [
    {
     "name": "stdout",
     "output_type": "stream",
     "text": [
      "test list:\n",
      "\tshhs1: 5793\n",
      "\tshhs2: 2651\n"
     ]
    }
   ],
   "source": [
    "test_list = {k: [] for k in all_npz.keys() if k not in train_name_lst}\n",
    "\n",
    "for k, v in all_npz.items():\n",
    "    if k not in train_name_lst:\n",
    "        for j in v.values():\n",
    "            test_list[k] += j\n",
    "\n",
    "print('test list:')\n",
    "for k, v in test_list.items():\n",
    "    print(f'\\t{k}: {len(v)}')"
   ]
  },
  {
   "cell_type": "code",
   "execution_count": 5,
   "id": "83b95065-240e-4ee9-9b44-9375a427c201",
   "metadata": {},
   "outputs": [],
   "source": [
    "SR = 1 # sample rate\n",
    "segment_2d = False # segment signal to 2D\n",
    "segment_len = 60*SR if segment_2d else None # length of each segment\n",
    "signal_len = (8*3600*SR)//segment_len if segment_2d else 8*3600*SR # length of signal\n",
    "\n",
    "def normalize(signal):\n",
    "    return signal/100.\n",
    "\n",
    "def AHI_class(AHI, classes=4, cutoff=15):\n",
    "    if classes == 2:\n",
    "        if AHI < cutoff:\n",
    "            label = 0\n",
    "        else:\n",
    "            label = 1\n",
    "    elif classes == 4:\n",
    "        if AHI < 5:\n",
    "            label = 0\n",
    "        elif 5 <= AHI < 15:\n",
    "            label = 1\n",
    "        elif 15 <= AHI < 30:\n",
    "            label = 2\n",
    "        else: label = 3\n",
    "    \n",
    "    return label\n",
    "\n",
    "def read_npz_file(file):\n",
    "    npz_data = np.load(file, allow_pickle=True)\n",
    "    signal = normalize(npz_data['SpO2'])\n",
    "    \n",
    "    if segment_2d:\n",
    "        segment_num = len(signal)//segment_len\n",
    "        signal = signal[:segment_num*segment_len].reshape((segment_num, segment_len))\n",
    "        \n",
    "    label = AHI_class(float(npz_data['csv_data'].item()['ahi_a0h3']))\n",
    "        \n",
    "    return signal, label\n",
    "\n",
    "def cut_pad_signal(signal, length=signal_len, mode='middle'):\n",
    "    if len(signal) > length:\n",
    "        cut_len = len(signal)-length\n",
    "        if mode == 'middle': # cut from middle\n",
    "            mid = cut_len//2\n",
    "            return signal[mid:mid+length]\n",
    "        elif mode == 'random': # random cut\n",
    "            rand = np.random.randint(cut_len)\n",
    "            return signal[rand:rand+length]\n",
    "    \n",
    "    else:\n",
    "        pad_len = length-len(signal)\n",
    "        if segment_2d:\n",
    "            signal = np.pad(signal, ((0, pad_len), (0, 0)))\n",
    "        else:\n",
    "            signal = np.pad(signal, (0, pad_len))\n",
    "        return signal"
   ]
  },
  {
   "cell_type": "code",
   "execution_count": 6,
   "id": "3e060450-81ed-4f05-8406-9c8877a3971c",
   "metadata": {},
   "outputs": [
    {
     "name": "stderr",
     "output_type": "stream",
     "text": [
      "100%|████████████████████████████████████████████████████████████████████████████| 5793/5793 [00:05<00:00, 1051.65it/s]\n",
      "100%|█████████████████████████████████████████████████████████████████████████████| 2651/2651 [00:03<00:00, 870.81it/s]\n"
     ]
    }
   ],
   "source": [
    "test_info = {j: {i: [] for i in ['signal', 'label']} for j in test_list.keys()}\n",
    "\n",
    "for k, v in test_list.items():\n",
    "    for file in tqdm(v):\n",
    "        path = str(data_dir/file)\n",
    "        signal, label = read_npz_file(path)\n",
    "        test_info[k]['signal'].append(signal)\n",
    "        test_info[k]['label'].append(label)"
   ]
  },
  {
   "cell_type": "code",
   "execution_count": 7,
   "id": "7ba04d96-fe2e-4912-a675-8dd7589480bf",
   "metadata": {},
   "outputs": [],
   "source": [
    "def startEvaluation(model):\n",
    "    model.eval()\n",
    "    \n",
    "    batch_data = []\n",
    "    for v in test_data.values():\n",
    "        batch_data += v\n",
    "        \n",
    "    _ = model(batch_data[0][0]) # initialization\n",
    "    \n",
    "    pbar = tqdm(batch_data, unit='batch')\n",
    "    for b, batch in enumerate(pbar):\n",
    "        signals, labels = batch\n",
    "\n",
    "        with torch.no_grad():\n",
    "            outputs = model(signals)"
   ]
  },
  {
   "cell_type": "code",
   "execution_count": 8,
   "id": "c3578292-5848-4d3e-8dd2-7c54cb1d48a8",
   "metadata": {},
   "outputs": [],
   "source": [
    "class EvaluationDataset(Dataset):\n",
    "    def __init__(self, data_type, signal, label):\n",
    "        self.data_type = data_type\n",
    "        self.signal = signal\n",
    "        self.label = label\n",
    "        \n",
    "    def __getitem__(self, index):\n",
    "        if self.data_type == 'fixed': # fixed length\n",
    "            signal = torch.tensor(cut_pad_signal(self.signal[index]), dtype=torch.float32).cuda().unsqueeze(0)\n",
    "        elif self.data_type == 'original': # original length\n",
    "            signal = torch.tensor(self.signal[index], dtype=torch.float32).cuda().unsqueeze(0)\n",
    "        label = torch.tensor(self.label[index], dtype=torch.int64).cuda()\n",
    "        return signal, label\n",
    "    \n",
    "    def __len__(self):\n",
    "        return len(self.signal)"
   ]
  },
  {
   "cell_type": "code",
   "execution_count": 9,
   "id": "dfb99b17-8e04-4d7c-bbff-a6e3e85709b3",
   "metadata": {},
   "outputs": [],
   "source": [
    "# original length\n",
    "batch_size = 1\n",
    "test_data = {}\n",
    "for k in test_list.keys():\n",
    "    test_data[k] = DataLoader(EvaluationDataset('original', test_info[k]['signal'], test_info[k]['label']),\n",
    "                              batch_size=batch_size)"
   ]
  },
  {
   "cell_type": "code",
   "execution_count": 10,
   "id": "b174064e-4f9d-46b8-a6d2-fd3c5b7bcf1b",
   "metadata": {},
   "outputs": [],
   "source": [
    "from models import m004, m006, m008, m009, m204_ReLU2, m205, m206, m207"
   ]
  },
  {
   "cell_type": "code",
   "execution_count": 11,
   "id": "28d3e339-de94-4fd7-9752-e3d457ede43c",
   "metadata": {},
   "outputs": [],
   "source": [
    "def speedTest(model, model_name):\n",
    "    weights_dir = Path('weights', model_name)\n",
    "    weights_file = 'best_loss'\n",
    "    model = model().cuda()\n",
    "    model.load_state_dict(torch.load(weights_dir/f'{weights_file}.pth'))\n",
    "\n",
    "    startEvaluation(model)"
   ]
  },
  {
   "cell_type": "code",
   "execution_count": 12,
   "id": "60021fa7-f1a2-4a01-9108-11a9c6197a7c",
   "metadata": {},
   "outputs": [
    {
     "name": "stderr",
     "output_type": "stream",
     "text": [
      "100%|██████████████████████████████████████████████████████████████████████████| 8444/8444 [00:19<00:00, 424.00batch/s]\n"
     ]
    }
   ],
   "source": [
    "model_name = 'm004_20230215_152506'\n",
    "speedTest(m004, model_name)"
   ]
  },
  {
   "cell_type": "code",
   "execution_count": 13,
   "id": "f742f8de-fa24-4f4e-a30f-bf114e24cb18",
   "metadata": {},
   "outputs": [
    {
     "name": "stderr",
     "output_type": "stream",
     "text": [
      "100%|██████████████████████████████████████████████████████████████████████████| 8444/8444 [00:22<00:00, 367.40batch/s]\n"
     ]
    }
   ],
   "source": [
    "model_name = 'm006_20230216_104829'\n",
    "speedTest(m006, model_name)"
   ]
  },
  {
   "cell_type": "code",
   "execution_count": 14,
   "id": "012c5ded-4339-4b56-b7f5-f602937c3081",
   "metadata": {},
   "outputs": [
    {
     "name": "stderr",
     "output_type": "stream",
     "text": [
      "100%|██████████████████████████████████████████████████████████████████████████| 8444/8444 [00:26<00:00, 322.64batch/s]\n"
     ]
    }
   ],
   "source": [
    "model_name = 'm008_20230216_134648'\n",
    "speedTest(m008, model_name)"
   ]
  },
  {
   "cell_type": "code",
   "execution_count": 15,
   "id": "a927d21c-2866-4b6f-a0db-ef6dcd3a8b2c",
   "metadata": {},
   "outputs": [
    {
     "name": "stderr",
     "output_type": "stream",
     "text": [
      "100%|██████████████████████████████████████████████████████████████████████████| 8444/8444 [00:32<00:00, 263.86batch/s]\n"
     ]
    }
   ],
   "source": [
    "model_name = 'm009_20230220_150313'\n",
    "speedTest(m009, model_name)"
   ]
  },
  {
   "cell_type": "code",
   "execution_count": 16,
   "id": "6936ba42-2977-4fad-b0a6-b6d202d955ff",
   "metadata": {},
   "outputs": [
    {
     "name": "stderr",
     "output_type": "stream",
     "text": [
      "100%|██████████████████████████████████████████████████████████████████████████| 8444/8444 [00:21<00:00, 391.90batch/s]\n"
     ]
    }
   ],
   "source": [
    "model_name = 'm204_ReLU2_20230302_150035'\n",
    "speedTest(m204_ReLU2, model_name)"
   ]
  },
  {
   "cell_type": "code",
   "execution_count": 17,
   "id": "cc4879c0-4b0a-451e-b7a4-e7feaad26286",
   "metadata": {},
   "outputs": [
    {
     "name": "stderr",
     "output_type": "stream",
     "text": [
      "100%|██████████████████████████████████████████████████████████████████████████| 8444/8444 [00:24<00:00, 340.31batch/s]\n"
     ]
    }
   ],
   "source": [
    "model_name = 'm205_20230307_122555'\n",
    "speedTest(m205, model_name)"
   ]
  },
  {
   "cell_type": "code",
   "execution_count": 18,
   "id": "e3fff47e-7a6f-43c5-9762-78af7ae39e89",
   "metadata": {},
   "outputs": [
    {
     "name": "stderr",
     "output_type": "stream",
     "text": [
      "100%|██████████████████████████████████████████████████████████████████████████| 8444/8444 [00:25<00:00, 327.35batch/s]\n"
     ]
    }
   ],
   "source": [
    "model_name = 'm206_20230307_133016'\n",
    "speedTest(m206, model_name)"
   ]
  },
  {
   "cell_type": "code",
   "execution_count": 19,
   "id": "fee03913-28b6-4cda-87c3-d1d232a9d1b1",
   "metadata": {},
   "outputs": [
    {
     "name": "stderr",
     "output_type": "stream",
     "text": [
      "100%|██████████████████████████████████████████████████████████████████████████| 8444/8444 [00:32<00:00, 256.56batch/s]\n"
     ]
    }
   ],
   "source": [
    "model_name = 'm207_20230307_151901'\n",
    "speedTest(m207, model_name)"
   ]
  },
  {
   "cell_type": "code",
   "execution_count": null,
   "id": "0abc7190-0cd0-475d-b1ce-3101d22873d9",
   "metadata": {},
   "outputs": [],
   "source": []
  }
 ],
 "metadata": {
  "kernelspec": {
   "display_name": "Python 3 (ipykernel)",
   "language": "python",
   "name": "python3"
  },
  "language_info": {
   "codemirror_mode": {
    "name": "ipython",
    "version": 3
   },
   "file_extension": ".py",
   "mimetype": "text/x-python",
   "name": "python",
   "nbconvert_exporter": "python",
   "pygments_lexer": "ipython3",
   "version": "3.9.15"
  }
 },
 "nbformat": 4,
 "nbformat_minor": 5
}
